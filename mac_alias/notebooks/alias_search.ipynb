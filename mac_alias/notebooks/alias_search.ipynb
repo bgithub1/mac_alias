{
 "cells": [
  {
   "cell_type": "markdown",
   "id": "2e658cd1-40e7-4106-8a1b-9e7d506bc8e9",
   "metadata": {},
   "source": [
    "## Get all Alias files on a macOS system\n",
    "This solution largely comes from this post on StackOverflow by https://stackoverflow.com/users/3307951/larryy: \n",
    "\n",
    "https://stackoverflow.com/questions/48862093/how-to-read-change-and-write-macos-file-alias-from-python\n",
    "\n",
    "### Installation:\n",
    "Clone and create a Virtualenv using the requirements.txt file in the project root\n",
    "\n",
    "### Usage:\n",
    "When using the `alias_search.py` python module, the results will be placed in csv files in the folder `mac_alias/mac_alias/temp_folder`.\n",
    "#### To find all alias files on your macOS system, and their underlying paths:\n",
    "```\n",
    "cd mac_alias/mac_alias/notebooks\n",
    "python3 alias_search.py\n",
    "```\n",
    "\n",
    "#### To find alias files that are limited to start from two folders up:\n",
    "```\n",
    "cd mac_alias/mac_alias/notebooks\n",
    "python3 alias_search.py --onlyin  '../..'\n",
    "```\n",
    "\n",
    "After running either of these commands, open either your home folder, or the folder you designated using the `--out_folder some_folder_path` command line option to find the csv folder whose file name is `results_YYYYmmddHHMMSS.csv`"
   ]
  },
  {
   "cell_type": "code",
   "execution_count": 6,
   "id": "ea5be09f-768d-4182-be69-b61748248e1d",
   "metadata": {},
   "outputs": [],
   "source": [
    "import xattr\n",
    "import re\n",
    "from Foundation import *\n",
    "import mdfind\n",
    "import os\n",
    "import sys\n",
    "import string\n",
    "import pdb\n",
    "import traceback\n",
    "import pandas as pd\n",
    "import datetime\n",
    "import pathlib"
   ]
  },
  {
   "cell_type": "code",
   "execution_count": 7,
   "id": "cd757aa8-2a59-4937-acf5-5cf80d78b9ca",
   "metadata": {},
   "outputs": [],
   "source": [
    "def get_bookmarkData(alias_path):\n",
    "  alias_url = NSURL.fileURLWithPath_(alias_path)\n",
    "  bookmarkData, error = NSURL.bookmarkDataWithContentsOfURL_error_(alias_url, None)\n",
    "  return bookmarkData\n",
    "\n",
    "def get_target_of_bookmarkData(bookmarkData):\n",
    "  if bookmarkData is None:\n",
    "    return None\n",
    "  options = NSURLBookmarkResolutionWithoutUI | NSURLBookmarkResolutionWithoutMounting\n",
    "  resolved_url, stale, error = \\\n",
    "    NSURL.URLByResolvingBookmarkData_options_relativeToURL_bookmarkDataIsStale_error_(\n",
    "      bookmarkData, options, None, None, None)\n",
    "  return resolved_url.path()\n",
    "\n",
    "\n",
    "def create_bookmarkData(new_path):\n",
    "  new_url = NSURL.fileURLWithPath_(new_path)\n",
    "  options = NSURLBookmarkCreationSuitableForBookmarkFile\n",
    "  new_bookmarkData, error = \\\n",
    "    new_url.bookmarkDataWithOptions_includingResourceValuesForKeys_relativeToURL_error_(\n",
    "      options, None, None, None)\n",
    "  return new_bookmarkData\n",
    "\n",
    "    \n"
   ]
  },
  {
   "cell_type": "code",
   "execution_count": null,
   "id": "582c2ab7-2783-4206-bc19-622422b1aa94",
   "metadata": {},
   "outputs": [],
   "source": []
  },
  {
   "cell_type": "code",
   "execution_count": null,
   "id": "68448928-7109-4952-9ab9-42f27da62df7",
   "metadata": {},
   "outputs": [],
   "source": []
  },
  {
   "cell_type": "code",
   "execution_count": 8,
   "id": "9637ebe8-f9f8-4842-9410-2e19ef4adda4",
   "metadata": {},
   "outputs": [],
   "source": [
    "def main(onlyin=None):\n",
    "    q = \"kMDItemKind='Alias'\" \n",
    "    if onlyin is not None:\n",
    "        alias_paths = mdfind.mdfind(['-onlyin',os.path.abspath(onlyin),'kMDItemKind==Alias']).split('\\n')\n",
    "    else:\n",
    "        alias_paths = mdfind.query(q)\n",
    "    \n",
    "    list_dict_bookmark_data = []\n",
    "    for ap in alias_paths:\n",
    "        bmd = get_bookmarkData(ap)\n",
    "        tbmd = 'None'\n",
    "        error = None\n",
    "        if bmd is not None:\n",
    "            try:\n",
    "                tbmd = get_target_of_bookmarkData(bmd)\n",
    "            except:\n",
    "                error = traceback.format_exc()\n",
    "        list_dict_bookmark_data.append({'alias':ap,'underlying':tbmd})\n",
    "    return list_dict_bookmark_data  \n",
    "\n",
    "# get bash command line args\n",
    "#  each arg should be in the form:\n",
    "#  --arg_name arg_value\n",
    "# like:  --save_tax_curr_fiscal_year True --save_tax_all True\n",
    "def get_arg(arg_id):\n",
    "    arg_indices = [i for i,_ in enumerate(sys.argv) if sys.argv[i]==arg_id]\n",
    "    if len(arg_indices) !=1:\n",
    "        return None\n",
    "    return sys.argv[arg_indices[0]+1]"
   ]
  },
  {
   "cell_type": "code",
   "execution_count": 199,
   "id": "cb57c3b1-64fa-4c2e-9e37-683758d719f2",
   "metadata": {},
   "outputs": [],
   "source": [
    "# main(onlyin='../../')\n",
    "if __name__=='__main__':\n",
    "    onlyin = get_arg('--onlyin')\n",
    "    results = main(onlyin=onlyin)\n",
    "    df = pd.DataFrame(results)\n",
    "    max_width = max([len(v) for v in df.alias.values])\n",
    "    pd.options.display.max_colwidth = max_width\n",
    "    n = datetime.datetime.now()\n",
    "    y = n.year\n",
    "    mn = n.month\n",
    "    d = n.day\n",
    "    h = n.hour\n",
    "    m = n.minute\n",
    "    s = n.second\n",
    "    t = n.strftime('%Y%m%d%H%M%S')\n",
    "    out_folder = get_arg('--out_folder')\n",
    "    if out_folder is None:\n",
    "        out_folder = pathlib.Path.home()\n",
    "        \n",
    "    df.to_csv(f\"{out_folder}/results_{t}.csv\",index=False)\n",
    "    # for alias,underlying in results.items():\n",
    "    #     print(alias,underlying)\n"
   ]
  },
  {
   "cell_type": "code",
   "execution_count": 161,
   "id": "c02bf46b-c617-4ec1-8696-34dfbd761217",
   "metadata": {},
   "outputs": [],
   "source": [
    "# print(mdfind.mdfind(['-onlyin',os.path.abspath('../../../'),'kMDItemContentType==public.shell-script']))\n",
    "# print(mdfind.mdfind(['-onlyin',os.path.abspath('..'),'kMDItemKind==Alias']))"
   ]
  },
  {
   "cell_type": "code",
   "execution_count": 202,
   "id": "e669b63b-df8b-436f-9aef-c3579c2a4ffb",
   "metadata": {},
   "outputs": [
    {
     "name": "stdout",
     "output_type": "stream",
     "text": [
      "[NbConvertApp] Converting notebook alias_search.ipynb to script\n",
      "[NbConvertApp] Writing 3942 bytes to alias_search.py\n"
     ]
    }
   ],
   "source": [
    "# !jupyter nbconvert --to script alias_search.ipynb\n"
   ]
  },
  {
   "cell_type": "code",
   "execution_count": null,
   "id": "6d3fc1b8-121d-4044-b73b-a53b7b5efd56",
   "metadata": {},
   "outputs": [],
   "source": []
  },
  {
   "cell_type": "code",
   "execution_count": null,
   "id": "afc830f6-b67e-4c98-97aa-6e7c420d4447",
   "metadata": {},
   "outputs": [],
   "source": []
  },
  {
   "cell_type": "code",
   "execution_count": null,
   "id": "4f2f8d21-f99f-4e9a-8caf-92b86461cb9f",
   "metadata": {},
   "outputs": [],
   "source": []
  },
  {
   "cell_type": "code",
   "execution_count": null,
   "id": "1c03960b-8085-442c-b105-468bcc947b06",
   "metadata": {},
   "outputs": [],
   "source": []
  }
 ],
 "metadata": {
  "kernelspec": {
   "display_name": "Python 3 (ipykernel)",
   "language": "python",
   "name": "python3"
  },
  "language_info": {
   "codemirror_mode": {
    "name": "ipython",
    "version": 3
   },
   "file_extension": ".py",
   "mimetype": "text/x-python",
   "name": "python",
   "nbconvert_exporter": "python",
   "pygments_lexer": "ipython3",
   "version": "3.9.5"
  }
 },
 "nbformat": 4,
 "nbformat_minor": 5
}
